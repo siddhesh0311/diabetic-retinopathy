{
 "cells": [
  {
   "cell_type": "code",
   "execution_count": 1,
   "id": "hybrid-oakland",
   "metadata": {},
   "outputs": [
    {
     "name": "stdout",
     "output_type": "stream",
     "text": [
      "Requirement already satisfied: tensorflowjs in b:\\anaconda\\envs\\project\\lib\\site-packages (3.0.0)\n",
      "Requirement already satisfied: six<2,>=1.12.0 in b:\\anaconda\\envs\\project\\lib\\site-packages (from tensorflowjs) (1.15.0)\n",
      "Requirement already satisfied: tensorflow-hub<0.10,>=0.7.0 in b:\\anaconda\\envs\\project\\lib\\site-packages (from tensorflowjs) (0.9.0)\n",
      "Requirement already satisfied: h5py<3,>=2.8.0 in b:\\anaconda\\envs\\project\\lib\\site-packages (from tensorflowjs) (2.10.0)\n",
      "Requirement already satisfied: tensorflow<3,>=2.1.0 in b:\\anaconda\\envs\\project\\lib\\site-packages (from tensorflowjs) (2.3.0)\n",
      "Requirement already satisfied: numpy>=1.7 in b:\\anaconda\\envs\\project\\lib\\site-packages (from h5py<3,>=2.8.0->tensorflowjs) (1.18.5)\n",
      "Requirement already satisfied: absl-py>=0.7.0 in b:\\anaconda\\envs\\project\\lib\\site-packages (from tensorflow<3,>=2.1.0->tensorflowjs) (0.11.0)\n",
      "Requirement already satisfied: wheel>=0.26 in b:\\anaconda\\envs\\project\\lib\\site-packages (from tensorflow<3,>=2.1.0->tensorflowjs) (0.36.2)\n",
      "Requirement already satisfied: tensorboard<3,>=2.3.0 in b:\\anaconda\\envs\\project\\lib\\site-packages (from tensorflow<3,>=2.1.0->tensorflowjs) (2.3.0)\n",
      "Requirement already satisfied: opt-einsum>=2.3.2 in b:\\anaconda\\envs\\project\\lib\\site-packages (from tensorflow<3,>=2.1.0->tensorflowjs) (3.1.0)\n",
      "Requirement already satisfied: gast==0.3.3 in b:\\anaconda\\envs\\project\\lib\\site-packages (from tensorflow<3,>=2.1.0->tensorflowjs) (0.3.3)\n",
      "Requirement already satisfied: astunparse==1.6.3 in b:\\anaconda\\envs\\project\\lib\\site-packages (from tensorflow<3,>=2.1.0->tensorflowjs) (1.6.3)\n",
      "Requirement already satisfied: grpcio>=1.8.6 in b:\\anaconda\\envs\\project\\lib\\site-packages (from tensorflow<3,>=2.1.0->tensorflowjs) (1.31.0)\n",
      "Requirement already satisfied: protobuf>=3.9.2 in b:\\anaconda\\envs\\project\\lib\\site-packages (from tensorflow<3,>=2.1.0->tensorflowjs) (3.14.0)\n",
      "Requirement already satisfied: wrapt>=1.11.1 in b:\\anaconda\\envs\\project\\lib\\site-packages (from tensorflow<3,>=2.1.0->tensorflowjs) (1.12.1)\n",
      "Requirement already satisfied: termcolor>=1.1.0 in b:\\anaconda\\envs\\project\\lib\\site-packages (from tensorflow<3,>=2.1.0->tensorflowjs) (1.1.0)\n",
      "Requirement already satisfied: scipy==1.4.1 in b:\\anaconda\\envs\\project\\lib\\site-packages (from tensorflow<3,>=2.1.0->tensorflowjs) (1.4.1)\n",
      "Requirement already satisfied: google-pasta>=0.1.8 in b:\\anaconda\\envs\\project\\lib\\site-packages (from tensorflow<3,>=2.1.0->tensorflowjs) (0.2.0)\n",
      "Requirement already satisfied: keras-preprocessing<1.2,>=1.1.1 in b:\\anaconda\\envs\\project\\lib\\site-packages (from tensorflow<3,>=2.1.0->tensorflowjs) (1.1.2)\n",
      "Requirement already satisfied: tensorflow-estimator<2.4.0,>=2.3.0 in b:\\anaconda\\envs\\project\\lib\\site-packages (from tensorflow<3,>=2.1.0->tensorflowjs) (2.3.0)\n",
      "Requirement already satisfied: setuptools>=41.0.0 in b:\\anaconda\\envs\\project\\lib\\site-packages (from tensorboard<3,>=2.3.0->tensorflow<3,>=2.1.0->tensorflowjs) (52.0.0.post20210125)\n",
      "Requirement already satisfied: requests<3,>=2.21.0 in b:\\anaconda\\envs\\project\\lib\\site-packages (from tensorboard<3,>=2.3.0->tensorflow<3,>=2.1.0->tensorflowjs) (2.25.1)\n",
      "Requirement already satisfied: tensorboard-plugin-wit>=1.6.0 in b:\\anaconda\\envs\\project\\lib\\site-packages (from tensorboard<3,>=2.3.0->tensorflow<3,>=2.1.0->tensorflowjs) (1.6.0)\n",
      "Requirement already satisfied: google-auth-oauthlib<0.5,>=0.4.1 in b:\\anaconda\\envs\\project\\lib\\site-packages (from tensorboard<3,>=2.3.0->tensorflow<3,>=2.1.0->tensorflowjs) (0.4.2)\n",
      "Requirement already satisfied: markdown>=2.6.8 in b:\\anaconda\\envs\\project\\lib\\site-packages (from tensorboard<3,>=2.3.0->tensorflow<3,>=2.1.0->tensorflowjs) (3.3.3)\n",
      "Requirement already satisfied: google-auth<2,>=1.6.3 in b:\\anaconda\\envs\\project\\lib\\site-packages (from tensorboard<3,>=2.3.0->tensorflow<3,>=2.1.0->tensorflowjs) (1.24.0)\n",
      "Requirement already satisfied: werkzeug>=0.11.15 in b:\\anaconda\\envs\\project\\lib\\site-packages (from tensorboard<3,>=2.3.0->tensorflow<3,>=2.1.0->tensorflowjs) (1.0.1)\n",
      "Requirement already satisfied: rsa<5,>=3.1.4 in b:\\anaconda\\envs\\project\\lib\\site-packages (from google-auth<2,>=1.6.3->tensorboard<3,>=2.3.0->tensorflow<3,>=2.1.0->tensorflowjs) (4.7)\n",
      "Requirement already satisfied: pyasn1-modules>=0.2.1 in b:\\anaconda\\envs\\project\\lib\\site-packages (from google-auth<2,>=1.6.3->tensorboard<3,>=2.3.0->tensorflow<3,>=2.1.0->tensorflowjs) (0.2.8)\n",
      "Requirement already satisfied: cachetools<5.0,>=2.0.0 in b:\\anaconda\\envs\\project\\lib\\site-packages (from google-auth<2,>=1.6.3->tensorboard<3,>=2.3.0->tensorflow<3,>=2.1.0->tensorflowjs) (4.2.1)\n",
      "Requirement already satisfied: requests-oauthlib>=0.7.0 in b:\\anaconda\\envs\\project\\lib\\site-packages (from google-auth-oauthlib<0.5,>=0.4.1->tensorboard<3,>=2.3.0->tensorflow<3,>=2.1.0->tensorflowjs) (1.3.0)\n",
      "Requirement already satisfied: pyasn1<0.5.0,>=0.4.6 in b:\\anaconda\\envs\\project\\lib\\site-packages (from pyasn1-modules>=0.2.1->google-auth<2,>=1.6.3->tensorboard<3,>=2.3.0->tensorflow<3,>=2.1.0->tensorflowjs) (0.4.8)\n",
      "Requirement already satisfied: certifi>=2017.4.17 in b:\\anaconda\\envs\\project\\lib\\site-packages (from requests<3,>=2.21.0->tensorboard<3,>=2.3.0->tensorflow<3,>=2.1.0->tensorflowjs) (2020.12.5)\n",
      "Requirement already satisfied: urllib3<1.27,>=1.21.1 in b:\\anaconda\\envs\\project\\lib\\site-packages (from requests<3,>=2.21.0->tensorboard<3,>=2.3.0->tensorflow<3,>=2.1.0->tensorflowjs) (1.26.3)\n",
      "Requirement already satisfied: chardet<5,>=3.0.2 in b:\\anaconda\\envs\\project\\lib\\site-packages (from requests<3,>=2.21.0->tensorboard<3,>=2.3.0->tensorflow<3,>=2.1.0->tensorflowjs) (3.0.4)\n",
      "Requirement already satisfied: idna<3,>=2.5 in b:\\anaconda\\envs\\project\\lib\\site-packages (from requests<3,>=2.21.0->tensorboard<3,>=2.3.0->tensorflow<3,>=2.1.0->tensorflowjs) (2.10)\n",
      "Requirement already satisfied: oauthlib>=3.0.0 in b:\\anaconda\\envs\\project\\lib\\site-packages (from requests-oauthlib>=0.7.0->google-auth-oauthlib<0.5,>=0.4.1->tensorboard<3,>=2.3.0->tensorflow<3,>=2.1.0->tensorflowjs) (3.1.0)\n",
      "Note: you may need to restart the kernel to use updated packages.\n"
     ]
    }
   ],
   "source": [
    "pip install tensorflowjs"
   ]
  },
  {
   "cell_type": "code",
   "execution_count": 2,
   "id": "patient-quantity",
   "metadata": {},
   "outputs": [],
   "source": [
    "!tensorflowjs_converter --input_format keras model.h5 tfjs/model"
   ]
  },
  {
   "cell_type": "code",
   "execution_count": null,
   "id": "infrared-detector",
   "metadata": {},
   "outputs": [],
   "source": []
  }
 ],
 "metadata": {
  "kernelspec": {
   "display_name": "Python 3",
   "language": "python",
   "name": "python3"
  },
  "language_info": {
   "codemirror_mode": {
    "name": "ipython",
    "version": 3
   },
   "file_extension": ".py",
   "mimetype": "text/x-python",
   "name": "python",
   "nbconvert_exporter": "python",
   "pygments_lexer": "ipython3",
   "version": "3.8.5"
  }
 },
 "nbformat": 4,
 "nbformat_minor": 5
}
